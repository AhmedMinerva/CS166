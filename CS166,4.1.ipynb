{
 "cells": [
  {
   "cell_type": "code",
   "execution_count": 2,
   "metadata": {},
   "outputs": [],
   "source": [
    "import matplotlib.pyplot as plt\n",
    "import scipy as sp\n",
    "import random\n",
    "\n",
    "\n",
    "class  TrafficSimulation:\n",
    "    \n",
    "\n",
    "    def __init__(self, road_length=100, traffic_density=0.03, maximum_velocity=5, prob_slowing=0.3):\n",
    "        \n",
    "        self.road_length = road_length\n",
    "        #self.state = sp.zeros((road_length, road_length))\n",
    "        self.maximum_velocity=maximum_velocity\n",
    "        self.empty=-1\n",
    "        self.traffic_density=traffic_density\n",
    "        self.prob_slowing=prob_slowing\n",
    "        \n",
    "        #creating the two states\n",
    "        self.current_state = sp.zeros(road_length)\n",
    "        #self.next_state = sp.zeros(road_length)\n",
    "\n",
    "    def initialize(self):\n",
    "\n",
    "        #filling the states with -1 empty cells\n",
    "        self.current_state.fill(self.empty)\n",
    "        #self.next_state.fill(self.empty)\n",
    "        \n",
    "        # Place random cars with the requested density\n",
    "        random_indexes = sp.random.choice(\n",
    "            range(self.road_length),\n",
    "            size=int(round(self.traffic_density * self.road_length)),\n",
    "            replace=False)\n",
    "        self.current_state[random_indexes] = random.randrange(self.maximum_velocity)\n",
    "        \n",
    "        self.time=0\n",
    "        \n",
    "    def update(self):\n",
    "        next_car=0\n",
    "        distance=0\n",
    "\n",
    "        next_state = self.current_state\n",
    "\n",
    "        for i in range (1, self.road_length - 1):\n",
    "            if self.current_state[i] != -1:\n",
    "                \n",
    "                for j in range (i+1, self.road_length - 1):\n",
    "                    if self.current_state[j] != -1:\n",
    "                        next_car_v=self.current_state[j]\n",
    "                        distance=j-1\n",
    "                        break\n",
    "            \n",
    "                #Acceleration:\n",
    "                if self.current_state[i] < self.maximum_velocity and distance>(self.current_state[i]+1):\n",
    "                    next_state[i]=+1\n",
    "                #Slowing Down:\n",
    "                if self.current_state[i]>=distance:\n",
    "                    next_state[i]=distance-1\n",
    "                #Randomization:\n",
    "                if random.uniform(0, 1) <self.prob_slowing:\n",
    "                    next_state[i]=-1\n",
    "                    \n",
    "        for i in range (1, self.road_length - 1):\n",
    "            if next_state[i] != -1:             \n",
    "                upd=int(i+next_state[i])\n",
    "                self.current_state[upd]=next_state[i]\n",
    "                self.current_state[i]=-1\n",
    "            \n",
    "            \n",
    "    def display(self):\n",
    "        print(''.join('.' if x == -1 else str(x) for x in self.current_state))"
   ]
  },
  {
   "cell_type": "code",
   "execution_count": 4,
   "metadata": {},
   "outputs": [
    {
     "name": "stdout",
     "output_type": "stream",
     "text": [
      "...................................................................................................1.0\n",
      "...................................................................................................1.0\n",
      "...................................................................................................1.0\n",
      "...................................................................................................1.0\n",
      "...................................................................................................1.0\n",
      "...................................................................................................1.0\n",
      "...................................................................................................1.0\n",
      "...................................................................................................1.0\n",
      "...................................................................................................1.0\n",
      "...................................................................................................1.0\n"
     ]
    }
   ],
   "source": [
    "model=TrafficSimulation()\n",
    "model.initialize()\n",
    "for i in range(10):\n",
    "    model.update()\n",
    "    model.display()"
   ]
  },
  {
   "cell_type": "code",
   "execution_count": null,
   "metadata": {},
   "outputs": [],
   "source": []
  }
 ],
 "metadata": {
  "kernelspec": {
   "display_name": "Python 3",
   "language": "python",
   "name": "python3"
  },
  "language_info": {
   "codemirror_mode": {
    "name": "ipython",
    "version": 3
   },
   "file_extension": ".py",
   "mimetype": "text/x-python",
   "name": "python",
   "nbconvert_exporter": "python",
   "pygments_lexer": "ipython3",
   "version": "3.7.0"
  }
 },
 "nbformat": 4,
 "nbformat_minor": 2
}
