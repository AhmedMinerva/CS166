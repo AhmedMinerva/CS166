{
 "cells": [
  {
   "cell_type": "code",
   "execution_count": 1,
   "metadata": {},
   "outputs": [],
   "source": [
    "import matplotlib\n",
    "matplotlib.use('TkAgg')\n",
    "from pylab import *\n",
    "import networkx as nx\n",
    "import random as rd\n",
    "\n",
    "def initialize():\n",
    "    global g\n",
    "    #g = nx.karate_club_graph()\n",
    "    g = nx.erdos_renyi_graph(100,0.1)\n",
    "    g.pos = nx.spring_layout(g)\n",
    "    for i in g.nodes:\n",
    "        g.nodes[i]['state'] = 1 if random() < .5 else 0\n",
    "\n",
    "def observe():\n",
    "    global g\n",
    "    cla()\n",
    "    nx.draw(g, vmin = 0, vmax = 1,\n",
    "            node_color = [g.nodes[i]['state'] for i in g.nodes],\n",
    "            pos = g.pos)\n",
    "    \n",
    "    \n",
    "    \n",
    "    \n",
    "p_i = 0.04 # infection probability\n",
    "p_r = 0.5 # recovery probability\n",
    "\n",
    "def update():\n",
    "    global g\n",
    "    for a in list(g.nodes):\n",
    "        \n",
    "        #a = rd.choice(list(g.nodes))\n",
    "        if g.nodes[a]['state'] == 0: # if susceptible\n",
    "            b = rd.choice(list(g.neighbors(a)))\n",
    "            if g.nodes[b]['state'] == 1: # if neighbor b is infected\n",
    "                g.nodes[a]['state'] = 1 if random() < p_i else 0\n",
    "        else: # if infected\n",
    "            g.nodes[a]['state'] = 0 if random() < p_r else 1\n",
    "\n",
    "import pycxsimulator\n",
    "pycxsimulator.GUI().start(func=[initialize, observe, update])"
   ]
  },
  {
   "cell_type": "markdown",
   "metadata": {},
   "source": [
    "Question: Why does using synchronous or asynchronous updating make a\n",
    "difference?"
   ]
  },
  {
   "cell_type": "markdown",
   "metadata": {},
   "source": [
    "Synchronous updates make the mean-field approximation more similar to the approximation we applied to CA. In so doing, it is assumed that every cell/node in the entire space chooses its next state independently, according to the probabilities determined by the average state of the system. "
   ]
  },
  {
   "cell_type": "markdown",
   "metadata": {},
   "source": [
    "Question: For the mean field approximation described in Section 18.5, why is it appropriate to use the synchronous update method and not the asynchronous one?\n"
   ]
  },
  {
   "cell_type": "markdown",
   "metadata": {},
   "source": [
    "Mean-field approximation is a technique that ignores spatial relationships among components. It works quite well for systems whose parts are fully connected or randomly interacting with each other. It doesn’t work if the interactions are local or non-homogeneous, and/or if the system has a non-uniform pattern of states.\n",
    "\n",
    "\n",
    "When the objects are (clock-) synchronous the mean field approximation is a discrete time dynamical system. We focus on the latter.We study the accuracy of mean field approximation when this approximation is a discrete-time dynamical system. We extend a result that was shown for the continuous time case and we prove that expected performance indicators estimated by mean field approximation are O(1/N)-accurate."
   ]
  },
  {
   "cell_type": "code",
   "execution_count": 2,
   "metadata": {},
   "outputs": [],
   "source": [
    "import matplotlib\n",
    "matplotlib.use('TkAgg')\n",
    "from pylab import *\n",
    "import networkx as nx\n",
    "import random as rd\n",
    "\n",
    "e = nx.erdos_renyi_graph(1000, .04)\n",
    "w = nx.watts_strogatz_graph(1000, 40, 0.9)\n",
    "b = nx.barabasi_albert_graph(1000, 20)"
   ]
  },
  {
   "cell_type": "code",
   "execution_count": 10,
   "metadata": {},
   "outputs": [
    {
     "name": "stdout",
     "output_type": "stream",
     "text": [
      "40.95744783565341\n",
      "40.491612333412114\n",
      "60.48669521469732\n"
     ]
    }
   ],
   "source": [
    "avg_e= list(nx.average_degree_connectivity(e).values())\n",
    "avg_e=np.sum(avg_e)/len(avg_e)\n",
    "print(avg_e)\n",
    "\n",
    "avg_w= list(nx.average_degree_connectivity(w).values())\n",
    "avg_w=np.sum(avg_w)/len(avg_w)\n",
    "print(avg_w)\n",
    "\n",
    "avg_b= list(nx.average_degree_connectivity(b).values())\n",
    "avg_b=np.sum(avg_b)/len(avg_b)\n",
    "print(avg_b)"
   ]
  },
  {
   "cell_type": "code",
   "execution_count": 9,
   "metadata": {},
   "outputs": [
    {
     "name": "stdout",
     "output_type": "stream",
     "text": [
      "40.95697203182068\n",
      "40.4815\n",
      "60.299336734693874\n"
     ]
    }
   ],
   "source": [
    "def neighbor_degree(g): \n",
    "    avg_d = []\n",
    "    for edge in g.edges:\n",
    "        for node in edge:\n",
    "            avg_d.append(g.degree[node])\n",
    "\n",
    "    return sum(avg_d)/len(avg_d)\n",
    "\n",
    "\n",
    "print(neighbor_degree(e))\n",
    "print(neighbor_degree(w))\n",
    "print(neighbor_degree(b))"
   ]
  },
  {
   "cell_type": "markdown",
   "metadata": {},
   "source": [
    "Question: How does the average degree of neighbors (the number of friends of your friends) compare to the average degree of the graph (your number of friends)?"
   ]
  },
  {
   "cell_type": "markdown",
   "metadata": {},
   "source": [
    "The average degree of neighbors is usually the same for random networks like erdos_renyi_graph and watts_strogatz_graph, but sometimes in scale-free network like barabasi_albert_graph becuase its tendency for having higher degree of clusters."
   ]
  },
  {
   "cell_type": "code",
   "execution_count": null,
   "metadata": {},
   "outputs": [],
   "source": []
  }
 ],
 "metadata": {
  "kernelspec": {
   "display_name": "Python 3",
   "language": "python",
   "name": "python3"
  },
  "language_info": {
   "codemirror_mode": {
    "name": "ipython",
    "version": 3
   },
   "file_extension": ".py",
   "mimetype": "text/x-python",
   "name": "python",
   "nbconvert_exporter": "python",
   "pygments_lexer": "ipython3",
   "version": "3.7.0"
  }
 },
 "nbformat": 4,
 "nbformat_minor": 2
}
