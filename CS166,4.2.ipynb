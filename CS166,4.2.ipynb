{
 "cells": [
  {
   "cell_type": "code",
   "execution_count": 35,
   "metadata": {},
   "outputs": [],
   "source": [
    "import matplotlib.pyplot as plt\n",
    "import scipy as sp\n",
    "import numpy as np\n",
    "import random"
   ]
  },
  {
   "cell_type": "code",
   "execution_count": 36,
   "metadata": {},
   "outputs": [],
   "source": [
    "class  TrafficSimulation:\n",
    "    \n",
    "    def __init__(self, road_length=100, traffic_density=0.03, maximum_velocity=5, prob_slowing=0.3):\n",
    "        \n",
    "        self.road_length = road_length\n",
    "        #self.state = sp.zeros((road_length, road_length))\n",
    "        self.maximum_velocity=maximum_velocity\n",
    "        self.traffic_density=traffic_density\n",
    "        self.prob_slowing=prob_slowing\n",
    "        self.count=0\n",
    "    \n",
    "\n",
    "        #filling the states with -1 empty cells\n",
    "        #self.current_state.fill(self.empty)\n",
    "        #self.next_state.fill(self.empty)\n",
    "        \n",
    "        # Place random cars with the requested density\n",
    "        random_indexes = np.random.choice(\n",
    "            range(self.road_length),\n",
    "            size=int(round(traffic_density * self.road_length)),\n",
    "            replace=False)\n",
    "        self.current_state = -np.ones(self.road_length, dtype=int)  # -1 means empty cell\n",
    "        self.current_state[random_indexes] = np.random.randint(\n",
    "            0, self.maximum_velocity + 1, size=len(random_indexes))\n",
    "        \n",
    "        \n",
    "    def update(self, display=True):\n",
    "        distance=0\n",
    "        new_state = -np.ones(self.road_length, dtype=int)\n",
    "        \n",
    "#         if self.current_state[-1] != -1:\n",
    "#             self.count=+1\n",
    "#         if self.current_state[0] != -1:\n",
    "#             self.count=+1\n",
    "        for k in range(-1 * self.maximum_velocity, 0):   #check last max_vel slots\n",
    "                if self.current_state[k] >= abs(k):               #count if car will move outside lane\n",
    "                    self.count += 1\n",
    "\n",
    "\n",
    "        \n",
    "\n",
    "                # Update car velocities.\n",
    "        for i in range(self.road_length):\n",
    "            if self.current_state[i] != -1:\n",
    "                distance = 1  # The number of empty cells between this car and the next plus 1\n",
    "                while self.current_state[(i + distance) % self.road_length] == -1:\n",
    "                    distance += 1\n",
    "                # Acceleration\n",
    "                if self.current_state[i] < self.maximum_velocity:\n",
    "                    self.current_state[i] += 1\n",
    "                # Deceleration\n",
    "                if self.current_state[i] >= distance:\n",
    "                    self.current_state[i] = distance - 1\n",
    "                # Randomization\n",
    "                if (self.current_state[i] > 0) and (np.random.uniform() < self.prob_slowing):\n",
    "                    self.current_state[i] -= 1\n",
    "        \n",
    "         \n",
    "        #Moving Cars                     \n",
    "        for i in range(self.road_length):\n",
    "            if self.current_state[i] != -1:\n",
    "                new_state[(i + self.current_state[i]) % self.road_length] = self.current_state[i]\n",
    "        self.current_state = new_state\n",
    "\n",
    "            \n",
    "    def display(self):\n",
    "        print(''.join('.' if x == -1 else str(x) for x in self.current_state))"
   ]
  },
  {
   "cell_type": "code",
   "execution_count": 37,
   "metadata": {},
   "outputs": [
    {
     "name": "stdout",
     "output_type": "stream",
     "text": [
      "...................................2......2...................................1.....................\n",
      "......................................3......3..................................2...................\n",
      "..........................................4.....3..................................3................\n",
      "...............................................5....4..................................4............\n",
      "..................................................3......5..................................5.......\n",
      ".....................................................3........5..................................5..\n",
      ".4......................................................3..........5................................\n",
      "......5....................................................3............5...........................\n",
      "...........5...................................................4.............5......................\n",
      "................5...................................................5.............5.................\n",
      "....................4...................................................4..............5............\n",
      ".........................5..................................................4...............5.......\n",
      "..............................5..................................................5..............4...\n",
      ".5.................................5..................................................5.............\n",
      ".....4..................................5..................................................5........\n",
      "..........5.................................4..................................................4....\n",
      "5..............5.................................5..................................................\n",
      ".....5..............5.................................5.............................................\n",
      ".........4..............4.................................4.........................................\n",
      ".............4...............5................................4.....................................\n",
      ".................4...............4.................................5................................\n",
      "......................5..............4..................................5...........................\n",
      "..........................4..............4...................................5......................\n",
      "..............................4..............4....................................5.................\n",
      "...................................5.............4.....................................5............\n",
      ".......................................4..............5.....................................5.......\n",
      "............................................5.............4......................................5..\n",
      "..5..............................................5.............5....................................\n",
      "......4...............................................5.............5...............................\n",
      "...........5..............................................4..............5..........................\n",
      "................5..............................................5..............5.....................\n",
      ".....................5.............................................4...............5................\n",
      "..........................5.............................................5...............5...........\n",
      "...............................5............................................4................5......\n",
      "....................................5............................................5...............4..\n",
      "..5......................................5............................................5.............\n",
      ".......5.....................................4.............................................5........\n",
      "............5.....................................5.............................................5...\n",
      ".5..............4.....................................4.............................................\n",
      "......5..............5.....................................5........................................\n",
      "...........5.............4......................................5...................................\n",
      "................5............4.......................................5..............................\n",
      ".....................5............5.......................................5.........................\n",
      ".........................4.............5.......................................5....................\n",
      "..............................5............4........................................5...............\n",
      "...................................5............5........................................5..........\n",
      "........................................5............5.......................................4......\n",
      ".............................................5............5.......................................5.\n",
      "...5..............................................5............5....................................\n",
      "........5..............................................5...........4................................\n"
     ]
    }
   ],
   "source": [
    "#Figure-1\n",
    "model=TrafficSimulation(\n",
    "    road_length=100, traffic_density=0.03, prob_slowing=0.3)\n",
    "\n",
    "for i in range(50):\n",
    "    model.update()\n",
    "    model.display()"
   ]
  },
  {
   "cell_type": "code",
   "execution_count": 38,
   "metadata": {},
   "outputs": [
    {
     "name": "stdout",
     "output_type": "stream",
     "text": [
      "......1.............4.......................4..................5......2.........4.........20.1.1....\n",
      ".......1................4.......................4..................4.....3...........5....00.0..1...\n",
      ".........2..................4.......................4...................5....4...........400.0...1..\n",
      "...........2.....................5.......................5..................4.....5......000..1....2\n",
      "..3...........3.......................5.......................5..................5.....5.000...1....\n",
      ".....3...........3........................4.......................4...................5.1000....1...\n",
      "........3............4........................4.......................4................10000......2.\n",
      "2...........4............4.........................5.......................5...........0000.1.......\n",
      "..2.............4............4.........................4........................5......000.1..2.....\n",
      "....2................5...........4.........................4.........................5.000...2...3..\n",
      "3.....2..................4...........4.........................4.....................0.000.....2....\n",
      "...3....2....................4...........4..........................5.................100.1.......3.\n",
      "..4....4...3.....................4............5.........................4.............000..1........\n",
      ".....3....3...3......................4.............5........................4.........000...1.......\n",
      "........3...2.....4.......................5............4.........................5....000....1......\n",
      "..........2....3......4........................5............5.......................3.000.....1.....\n",
      "............2......4.......5.......................4.............5...................1000.......2...\n",
      "..............2........4........5.......................5............4...............000.1.........3\n",
      "..3.............2..........4........4........................5...........4...........00.1.1.........\n",
      "......4...........2.............5........5........................5..........4.......00..1.1........\n",
      "...........5.........3...............5........5........................5.........4...0.1.0...2......\n",
      "................5........4................5.......4.........................5.......3.10.0......3...\n",
      "4...................4........4.................5.......5.........................5..0.00.0..........\n",
      "....4....................5........5................4........5......................20.0.1.1.........\n",
      "........4.....................5........5................5.......4..................00.0.0..1........\n",
      ".............5.....................5........5................5......4..............0.1.1.1...2......\n",
      ".................4.....................4.........5...............4......4..........0..10...2....3...\n",
      "4.....................5.....................5.........5..............4......4......0..00.....2......\n",
      "....4.....................4......................5........4...............5......5.0..00.......2....\n",
      ".........5....................4......................4.........5..............4...1.1.00.........2..\n",
      ".............4.....................5.....................4..........5...........2.0.0.0.1..........2\n",
      "..3..............4.....................4.....................4..........4........10.0.0..1..........\n",
      "......4...............5.....................5.....................5.........4....00..10....2........\n",
      "..........4...............4.....................4......................5........40.1.00......2......\n",
      "...............5..............4......................5......................5...0.10.0.1.......2....\n",
      "....................5.............4......................4....................2.0.00.0...2.......2..\n",
      ".........................5.............5.....................4................0.0.0.1.1.....3......2\n",
      "..3..........................4.............4.....................4............0.0..1.1.1........4...\n",
      "4....3............................5.............5.....................5.......0.0...10..1...........\n",
      "...3.....4............................4.............4......................5..0.0...0.1..1..........\n",
      ".......4.....4............................4..............5...................20..1..0...2.1.........\n",
      "............5....4.............................5..............5..............0.1..1.0....1..2.......\n",
      "...............3......5.............................5..............5..........1..20.0......2..2.....\n",
      "...................4.......5............................4..............4.......1.00..1.......2...3..\n",
      ".4.....................4.......4............................4..............4...0.00...1........2....\n",
      ".....4.....................4.......4.............................5...........2.0.0.1....2........2..\n",
      ".........4......................5......4..............................5......0..1.1.1......3.......2\n",
      ".2...........4.......................5.....4...............................5.0...10..1........3.....\n",
      "...2.............4........................5.....5...........................10...00....2..........4.\n",
      ".3....3..............4.........................5....4.......................00...00.......3.........\n"
     ]
    }
   ],
   "source": [
    "#Figure-2\n",
    "model2 = TrafficSimulation(\n",
    "    road_length=100, traffic_density=0.1, prob_slowing=0.5)\n",
    "\n",
    "for i in range(50):\n",
    "    model2.update()\n",
    "    model2.display()"
   ]
  },
  {
   "cell_type": "code",
   "execution_count": 43,
   "metadata": {},
   "outputs": [
    {
     "name": "stdout",
     "output_type": "stream",
     "text": [
      "[0.0, 8.71, 25.93, 54.03, 82.965, 125.335, 162.05, 193.5, 222.36, 245.855, 285.735, 315.935, 343.46, 370.32, 393.57, 423.49, 453.285, 479.6, 508.255, 536.24, 561.485, 583.445, 607.89, 629.815, 653.16, 675.045, 695.785, 714.165, 734.375, 753.635, 773.4, 786.47, 800.95, 816.39, 831.065, 845.64, 860.35, 870.04, 880.775, 892.23]\n"
     ]
    }
   ],
   "source": [
    "carcount=0\n",
    "traffic_flow=[]\n",
    "density=[]\n",
    "for i in range(0, 80,2):\n",
    "    sim=TrafficSimulation(\n",
    "    road_length=100, traffic_density=i*0.01, prob_slowing=0.5)\n",
    "    density.append(i*0.01)\n",
    "    for j in range(200):\n",
    "        sim.update()\n",
    "        carcount+=sim.count\n",
    "    traffic_flow.append((carcount)/200)\n",
    "    \n",
    "print(traffic_flow)"
   ]
  },
  {
   "cell_type": "code",
   "execution_count": 44,
   "metadata": {},
   "outputs": [
    {
     "data": {
      "text/plain": [
       "[<matplotlib.lines.Line2D at 0xd50f70>]"
      ]
     },
     "execution_count": 44,
     "metadata": {},
     "output_type": "execute_result"
    },
    {
     "data": {
      "image/png": "[encoded data removed]",
      "text/plain": [
       "<Figure size 432x288 with 1 Axes>"
      ]
     },
     "metadata": {
      "needs_background": "light"
     },
     "output_type": "display_data"
    }
   ],
   "source": [
    "plt.plot(density,traffic_flow)"
   ]
  },
  {
   "cell_type": "code",
   "execution_count": 34,
   "metadata": {},
   "outputs": [
    {
     "name": "stdout",
     "output_type": "stream",
     "text": [
      "-5\n",
      "-4\n",
      "-3\n",
      "-2\n",
      "-1\n"
     ]
    }
   ],
   "source": [
    "for j in range(-5,0):\n",
    "    print(j)"
   ]
  },
  {
   "cell_type": "code",
   "execution_count": null,
   "metadata": {},
   "outputs": [],
   "source": []
  }
 ],
 "metadata": {
  "kernelspec": {
   "display_name": "Python 3",
   "language": "python",
   "name": "python3"
  },
  "language_info": {
   "codemirror_mode": {
    "name": "ipython",
    "version": 3
   },
   "file_extension": ".py",
   "mimetype": "text/x-python",
   "name": "python",
   "nbconvert_exporter": "python",
   "pygments_lexer": "ipython3",
   "version": "3.7.0"
  }
 },
 "nbformat": 4,
 "nbformat_minor": 2
}
